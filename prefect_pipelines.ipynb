{
 "cells": [
  {
   "cell_type": "code",
   "execution_count": 1,
   "metadata": {},
   "outputs": [],
   "source": [
    "from prefect import task\n",
    "import pandas as pd\n",
    "import snowflake.connector"
   ]
  },
  {
   "cell_type": "code",
   "execution_count": 80,
   "metadata": {},
   "outputs": [],
   "source": [
    "@task\n",
    "def extract():\n",
    "    #returns data set to pass through pipeline\n",
    "    data = pd.read_csv('RDC_InventoryCoreMetrics_Zip.csv')\n",
    "    \n",
    "    return data\n",
    "\n",
    "@task\n",
    "def transform(data):\n",
    "    '''Apply transformation to data'''\n",
    "    load_data = data[['Month','ZipCode','ZipName','Median_Listing_Price','Active_Listing_Count_',\n",
    "                     'Days_on_Market_', 'New_Listing_Count_','Price_Increase_Count_','Price_Decrease_Count_',\n",
    "                     'Pending_Listing_Count_','Avg_Listing_Price',\n",
    "                     'Total_Listing_Count','Pending_Ratio']]\n",
    "    load_data[\"ZipName\"] = load_data[\"ZipName\"].str.replace(\",\",\"-\")\n",
    "\n",
    "    load_data.to_csv('to_snowflake.csv', index=False, line_terminator='\\n', header=False)\n",
    "\n",
    "@task\n",
    "def load(data):\n",
    "    '''LOAD TO SNOWFLAKE'''\n",
    "    conn.cursor().execute(f'USE ROLE DATAMANAGER_LC')\n",
    "    conn.cursor().execute('put file://./to_snowflake.csv @realtybates_housing_db.public.%realtor')\n",
    "    conn.cursor().execute('use database realtybates_housing_db')\n",
    "    conn.cursor().execute('COPY INTO realtybates_housing_db.public.realtor FROM @%realtor ON_ERROR=Continue')\n",
    "    "
   ]
  },
  {
   "cell_type": "code",
   "execution_count": 3,
   "metadata": {},
   "outputs": [],
   "source": [
    "from prefect import Flow\n",
    "import os, sys, getpass"
   ]
  },
  {
   "cell_type": "code",
   "execution_count": 4,
   "metadata": {},
   "outputs": [
    {
     "name": "stdin",
     "output_type": "stream",
     "text": [
      "Password: ····················\n"
     ]
    }
   ],
   "source": [
    "USER = 'lchewsnowflake'\n",
    "ACCOUNT = 'jya18129'\n",
    "WAREHOUSE = 'COMPUTE_WH'\n",
    "DATABASE = 'REALTYBATES_HOUSING_DB.PUBLIC'\n",
    "SCHEMA = ''\n",
    "PASSWORD = getpass.getpass(prompt='Password:', stream=None)"
   ]
  },
  {
   "cell_type": "code",
   "execution_count": 13,
   "metadata": {},
   "outputs": [],
   "source": [
    "conn = snowflake.connector.connect(\n",
    "    user=USER,\n",
    "    password=PASSWORD,\n",
    "    account=ACCOUNT,\n",
    "    warehouse=WAREHOUSE,\n",
    "    database=DATABASE,\n",
    "    schema=SCHEMA)"
   ]
  },
  {
   "cell_type": "code",
   "execution_count": 14,
   "metadata": {},
   "outputs": [],
   "source": [
    "# conn.cursor().execute('CREATE TABLE '\n",
    "#                      '''realtor(Month string,ZipCode integer,ZipName string,Median_Listing_Price integer,Active_Listing_Count_ integer,\n",
    "#                      Days_on_Market_ integer, New_Listing_Count_ integer,Price_Increase_Count_ integer,Price_Decrease_Count_ integer,\n",
    "#                      Pending_Listing_Count_ integer,Avg_Listing_Price decimal,\n",
    "#                      Total_Listing_Count integer,Pending_Ratio decimal)''')"
   ]
  },
  {
   "cell_type": "code",
   "execution_count": 81,
   "metadata": {},
   "outputs": [
    {
     "name": "stderr",
     "output_type": "stream",
     "text": [
      "[2019-11-04 23:19:23,409] INFO - prefect.FlowRunner | Beginning Flow run for 'ETL'\n",
      "[2019-11-04 23:19:23,411] INFO - prefect.FlowRunner | Starting flow run.\n",
      "[2019-11-04 23:19:23,419] INFO - prefect.TaskRunner | Task 'extract': Starting task run...\n",
      "[2019-11-04 23:19:23,490] INFO - prefect.TaskRunner | Task 'extract': finished task run for task with final state: 'Success'\n",
      "[2019-11-04 23:19:23,496] INFO - prefect.TaskRunner | Task 'transform': Starting task run...\n",
      "/anaconda3/lib/python3.7/site-packages/ipykernel_launcher.py:15: SettingWithCopyWarning: \n",
      "A value is trying to be set on a copy of a slice from a DataFrame.\n",
      "Try using .loc[row_indexer,col_indexer] = value instead\n",
      "\n",
      "See the caveats in the documentation: http://pandas.pydata.org/pandas-docs/stable/user_guide/indexing.html#returning-a-view-versus-a-copy\n",
      "  from ipykernel import kernelapp as app\n",
      "[2019-11-04 23:19:23,652] INFO - prefect.TaskRunner | Task 'transform': finished task run for task with final state: 'Success'\n",
      "[2019-11-04 23:19:23,658] INFO - prefect.TaskRunner | Task 'load': Starting task run...\n",
      "[2019-11-04 23:19:26,409] INFO - prefect.TaskRunner | Task 'load': finished task run for task with final state: 'Success'\n",
      "[2019-11-04 23:19:26,410] INFO - prefect.FlowRunner | Flow run SUCCESS: all reference tasks succeeded\n"
     ]
    },
    {
     "data": {
      "text/plain": [
       "<Success: \"All reference tasks succeeded.\">"
      ]
     },
     "execution_count": 81,
     "metadata": {},
     "output_type": "execute_result"
    }
   ],
   "source": [
    "with Flow('ETL') as flow:\n",
    "    e = extract()\n",
    "    t = transform(e)\n",
    "    l = load(t)\n",
    "    \n",
    "flow.run()"
   ]
  },
  {
   "cell_type": "code",
   "execution_count": 82,
   "metadata": {},
   "outputs": [
    {
     "data": {
      "image/svg+xml": [
       "<?xml version=\"1.0\" encoding=\"UTF-8\" standalone=\"no\"?>\n",
       "<!DOCTYPE svg PUBLIC \"-//W3C//DTD SVG 1.1//EN\"\n",
       " \"http://www.w3.org/Graphics/SVG/1.1/DTD/svg11.dtd\">\n",
       "<!-- Generated by graphviz version 2.40.1 (20161225.0304)\n",
       " -->\n",
       "<!-- Title: %3 Pages: 1 -->\n",
       "<svg width=\"97pt\" height=\"216pt\"\n",
       " viewBox=\"0.00 0.00 96.98 216.00\" xmlns=\"http://www.w3.org/2000/svg\" xmlns:xlink=\"http://www.w3.org/1999/xlink\">\n",
       "<g id=\"graph0\" class=\"graph\" transform=\"scale(1 1) rotate(0) translate(4 212)\">\n",
       "<title>%3</title>\n",
       "<polygon fill=\"#ffffff\" stroke=\"transparent\" points=\"-4,4 -4,-212 92.975,-212 92.975,4 -4,4\"/>\n",
       "<!-- 4867213136 -->\n",
       "<g id=\"node1\" class=\"node\">\n",
       "<title>4867213136</title>\n",
       "<ellipse fill=\"none\" stroke=\"#000000\" cx=\"44.4875\" cy=\"-190\" rx=\"34.3267\" ry=\"18\"/>\n",
       "<text text-anchor=\"middle\" x=\"44.4875\" y=\"-185.8\" font-family=\"Times,serif\" font-size=\"14.00\" fill=\"#000000\">extract</text>\n",
       "</g>\n",
       "<!-- 4867212688 -->\n",
       "<g id=\"node3\" class=\"node\">\n",
       "<title>4867212688</title>\n",
       "<ellipse fill=\"none\" stroke=\"#000000\" cx=\"44.4875\" cy=\"-104\" rx=\"44.475\" ry=\"18\"/>\n",
       "<text text-anchor=\"middle\" x=\"44.4875\" y=\"-99.8\" font-family=\"Times,serif\" font-size=\"14.00\" fill=\"#000000\">transform</text>\n",
       "</g>\n",
       "<!-- 4867213136&#45;&gt;4867212688 -->\n",
       "<g id=\"edge1\" class=\"edge\">\n",
       "<title>4867213136&#45;&gt;4867212688</title>\n",
       "<path fill=\"none\" stroke=\"#000000\" d=\"M44.4875,-171.7616C44.4875,-160.3597 44.4875,-145.4342 44.4875,-132.494\"/>\n",
       "<polygon fill=\"#000000\" stroke=\"#000000\" points=\"47.9876,-132.2121 44.4875,-122.2121 40.9876,-132.2121 47.9876,-132.2121\"/>\n",
       "<text text-anchor=\"middle\" x=\"56.1462\" y=\"-142.8\" font-family=\"Times,serif\" font-size=\"14.00\" fill=\"#000000\">data</text>\n",
       "</g>\n",
       "<!-- 4867214416 -->\n",
       "<g id=\"node2\" class=\"node\">\n",
       "<title>4867214416</title>\n",
       "<ellipse fill=\"none\" stroke=\"#000000\" cx=\"44.4875\" cy=\"-18\" rx=\"27\" ry=\"18\"/>\n",
       "<text text-anchor=\"middle\" x=\"44.4875\" y=\"-13.8\" font-family=\"Times,serif\" font-size=\"14.00\" fill=\"#000000\">load</text>\n",
       "</g>\n",
       "<!-- 4867212688&#45;&gt;4867214416 -->\n",
       "<g id=\"edge2\" class=\"edge\">\n",
       "<title>4867212688&#45;&gt;4867214416</title>\n",
       "<path fill=\"none\" stroke=\"#000000\" d=\"M44.4875,-85.7616C44.4875,-74.3597 44.4875,-59.4342 44.4875,-46.494\"/>\n",
       "<polygon fill=\"#000000\" stroke=\"#000000\" points=\"47.9876,-46.2121 44.4875,-36.2121 40.9876,-46.2121 47.9876,-46.2121\"/>\n",
       "<text text-anchor=\"middle\" x=\"56.1462\" y=\"-56.8\" font-family=\"Times,serif\" font-size=\"14.00\" fill=\"#000000\">data</text>\n",
       "</g>\n",
       "</g>\n",
       "</svg>\n"
      ],
      "text/plain": [
       "<graphviz.dot.Digraph at 0x125289d50>"
      ]
     },
     "execution_count": 82,
     "metadata": {},
     "output_type": "execute_result"
    }
   ],
   "source": [
    "flow.visualize()"
   ]
  },
  {
   "cell_type": "code",
   "execution_count": null,
   "metadata": {},
   "outputs": [],
   "source": []
  }
 ],
 "metadata": {
  "kernelspec": {
   "display_name": "Python 3",
   "language": "python",
   "name": "python3"
  },
  "language_info": {
   "codemirror_mode": {
    "name": "ipython",
    "version": 3
   },
   "file_extension": ".py",
   "mimetype": "text/x-python",
   "name": "python",
   "nbconvert_exporter": "python",
   "pygments_lexer": "ipython3",
   "version": "3.7.5"
  }
 },
 "nbformat": 4,
 "nbformat_minor": 4
}
